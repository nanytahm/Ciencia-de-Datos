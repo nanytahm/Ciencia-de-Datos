{
  "metadata": {
    "language_info": {
      "name": "python",
      "version": "3.7.12",
      "mimetype": "text/x-python",
      "codemirror_mode": {
        "name": "ipython",
        "version": 3
      },
      "pygments_lexer": "ipython3",
      "nbconvert_exporter": "python",
      "file_extension": ".py"
    },
    "kernelspec": {
      "name": "python3",
      "display_name": "Python 3 (ipykernel)",
      "language": "python"
    },
    "colab": {
      "name": "introduccion.ipynb",
      "provenance": [],
      "collapsed_sections": []
    }
  },
  "nbformat_minor": 5,
  "nbformat": 4,
  "cells": [
    {
      "cell_type": "markdown",
      "source": [
        "# Jupyter Notebook y Python\n",
        "## Jupyter Notebook\n",
        "Jupyter Notebook es una forma de ejecutar código Python (y algunos otros lenguajes) de forma interactiva. A diferencia de un archivo Python estándar (.py), donde el código se ejecuta de principio a fin, un Jupyter Notebook (.ipynb) permite al programador ejecutar el código en pequeños trozos, observando los resultados intermedios.\n",
        "\n",
        "Además, los cuadernos permiten incluir texto, imágenes, vídeos y fórmulas matemáticas. Esto hace que sean aún mejores para su uso en la ciencia de los datos, ya que permiten explicar líneas de razonamiento y mostrar gráficos.\n",
        "\n",
        "\n",
        "## Python\n",
        "Python es un lenguaje de programación de propósito general creado en la década de 1990. Lo primero que se puede notar al usar Python es que el código es muy limpio y tiene una buena legibilidad. Para los programadores que ya están familiarizados con lenguajes como C/C++ o Java la adaptación a Python es bastante fácil, y además el lenguaje es una excelente alternativa para empezar a aprender a programar.\n",
        "\n",
        "Es muy importante entender que este no es un curso de Python, y mucho menos de programación. La introducción proporcionada en esta clase tiene como objetivo presentar los puntos principales del lenguaje, pero es muy recomendable estudiar Python por separado para aquellos que quieren entender mejor lo que está sucediendo. En este curso veremos cómo aplicar Python en el contexto de la ciencia de los datos, por lo que un buen conocimiento del lenguaje es fundamental.\n",
        "\n",
        "¡Ahora vamos a una introducción práctica a Python!\n",
        "\n",
        "\n",
        "## Variables"
      ],
      "metadata": {
        "id": "54dc471b-38da-49ec-8042-e7ad9fb0203d"
      },
      "id": "54dc471b-38da-49ec-8042-e7ad9fb0203d"
    },
    {
      "cell_type": "code",
      "source": [
        "# Declarando algunas variables (esto es un comentário)\n",
        "nombre = 'Lucas'\n",
        "edad = 28\n",
        "altura = 1.75\n",
        "soltero = True"
      ],
      "metadata": {
        "trusted": true,
        "id": "73bd15f5-5432-4bd3-a8cd-5d3df401be29"
      },
      "execution_count": null,
      "outputs": [],
      "id": "73bd15f5-5432-4bd3-a8cd-5d3df401be29"
    },
    {
      "cell_type": "code",
      "source": [
        "# Imprimiendo el valor de las variables\n",
        "print(nombre)\n",
        "print(edad)\n",
        "print(altura)\n",
        "print(soltero)"
      ],
      "metadata": {
        "trusted": true,
        "id": "08d7b12e-65cc-4e19-acb9-f9e97d03d058",
        "outputId": "7440a516-c0e5-42f0-f7cf-4b2f0a9dd53d"
      },
      "execution_count": null,
      "outputs": [
        {
          "name": "stdout",
          "text": "Lucas\n28\n1.75\nTrue\n",
          "output_type": "stream"
        }
      ],
      "id": "08d7b12e-65cc-4e19-acb9-f9e97d03d058"
    },
    {
      "cell_type": "code",
      "source": [
        "# Podemos ver el tipo de las variables\n",
        "print(type(nombre))\n",
        "print(type(edad))\n",
        "print(type(altura))\n",
        "print(type(soltero))"
      ],
      "metadata": {
        "trusted": true,
        "id": "65d0d68b-154b-4ac8-bff1-45ce022b1530",
        "outputId": "904ead92-382c-41f1-e219-712c02f4d105"
      },
      "execution_count": null,
      "outputs": [
        {
          "name": "stdout",
          "text": "<class 'str'>\n<class 'int'>\n<class 'float'>\n<class 'bool'>\n",
          "output_type": "stream"
        }
      ],
      "id": "65d0d68b-154b-4ac8-bff1-45ce022b1530"
    },
    {
      "cell_type": "markdown",
      "source": [
        "## Operaciones"
      ],
      "metadata": {
        "id": "10ab6609-e466-4f73-ba14-53e4f1edffc4"
      },
      "id": "10ab6609-e466-4f73-ba14-53e4f1edffc4"
    },
    {
      "cell_type": "code",
      "source": [
        "# Tenemos todas las operaciones aritméticas populares\n",
        "a = edad + 10\n",
        "b = altura - 5\n",
        "c = altura * 2\n",
        "d = edad / 3\n",
        "\n",
        "print(edad)\n",
        "print('Suma 10:', a)\n",
        "print('Substrae 5:', b)\n",
        "print('Multiplica por 2:', c)\n",
        "print('Divide por 3:', d)"
      ],
      "metadata": {
        "trusted": true,
        "id": "c876d5d0-87f6-4a50-a102-e89cf100717d",
        "outputId": "3eaf2a0b-37fb-4603-9e39-896e9075aa9d"
      },
      "execution_count": null,
      "outputs": [
        {
          "name": "stdout",
          "text": "28\nSuma 10: 38\nSubstrae 5: -3.25\nMultiplica por 2: 3.5\nDivide por 3: 9.333333333333334\n",
          "output_type": "stream"
        }
      ],
      "id": "c876d5d0-87f6-4a50-a102-e89cf100717d"
    },
    {
      "cell_type": "code",
      "source": [
        "# Tambien se puede destacar operaciones de módulo (resto de la division)\n",
        "# y de division entera\n",
        "\n",
        "e = edad % 10 # Modulo\n",
        "f = edad // 3 # Div. entera\n",
        "\n",
        "print('Modulo 10:', e)\n",
        "print('División entera por 3:', f)"
      ],
      "metadata": {
        "trusted": true,
        "id": "49e963a5-ec44-4692-a9b3-c56a3da1269d",
        "outputId": "1eefde78-aed3-4691-9303-6790b8963cb2"
      },
      "execution_count": null,
      "outputs": [
        {
          "name": "stdout",
          "text": "Modulo 10: 8\nDivisión entera por 3: 9\n",
          "output_type": "stream"
        }
      ],
      "id": "49e963a5-ec44-4692-a9b3-c56a3da1269d"
    },
    {
      "cell_type": "markdown",
      "source": [
        "Podemos realizar operaciones en la misma variable de manera simplificada"
      ],
      "metadata": {
        "id": "af9655ae-d235-4a75-85be-6c810c44843b"
      },
      "id": "af9655ae-d235-4a75-85be-6c810c44843b"
    },
    {
      "cell_type": "code",
      "source": [
        "var = 10\n",
        "print(var)\n",
        "\n",
        "var += 5 # var = var + 5\n",
        "print(var)"
      ],
      "metadata": {
        "trusted": true,
        "id": "4b700634-4974-4426-961b-da7d8aab81ed",
        "outputId": "45adb242-b539-4ffd-c562-b5ffc7af6480"
      },
      "execution_count": null,
      "outputs": [
        {
          "name": "stdout",
          "text": "10\n15\n",
          "output_type": "stream"
        }
      ],
      "id": "4b700634-4974-4426-961b-da7d8aab81ed"
    },
    {
      "cell_type": "code",
      "source": [
        "# Esto no existe en Python\n",
        "var++"
      ],
      "metadata": {
        "trusted": true,
        "id": "becc1e0a-6e63-491f-ac91-80ad0952b70c"
      },
      "execution_count": null,
      "outputs": [],
      "id": "becc1e0a-6e63-491f-ac91-80ad0952b70c"
    },
    {
      "cell_type": "code",
      "source": [
        "print(var)"
      ],
      "metadata": {
        "trusted": true,
        "id": "b13734ce-3964-41fa-a1e1-f092fdfa0199"
      },
      "execution_count": null,
      "outputs": [],
      "id": "b13734ce-3964-41fa-a1e1-f092fdfa0199"
    },
    {
      "cell_type": "markdown",
      "source": [
        "Un concepto diferente es el de operaciones aritméticas con datos que no son números"
      ],
      "metadata": {
        "id": "28c84d64-8b50-442a-bbd0-b27013861c13"
      },
      "id": "28c84d64-8b50-442a-bbd0-b27013861c13"
    },
    {
      "cell_type": "code",
      "source": [
        "# \"Suma\" de strings funciona como la concatenación\n",
        "'a' + 'b'"
      ],
      "metadata": {
        "trusted": true,
        "id": "27dc27e6-effd-4ee2-80df-4e01001ae72a"
      },
      "execution_count": null,
      "outputs": [],
      "id": "27dc27e6-effd-4ee2-80df-4e01001ae72a"
    },
    {
      "cell_type": "code",
      "source": [
        "# Por ejemplo:\n",
        "apellido = 'Ferrer'\n",
        "nombre_completo = nombre + ' ' + apellido\n",
        "print(nombre_completo)"
      ],
      "metadata": {
        "trusted": true,
        "id": "f5738b68-39ab-450c-a264-288e07c6328b"
      },
      "execution_count": null,
      "outputs": [],
      "id": "f5738b68-39ab-450c-a264-288e07c6328b"
    },
    {
      "cell_type": "code",
      "source": [
        "# Tambien podemos hacer \"multiplicación\" con strings\n",
        "'a' * 10 "
      ],
      "metadata": {
        "trusted": true,
        "id": "cd639236-97a1-4016-a018-6ff8f07877c7"
      },
      "execution_count": null,
      "outputs": [],
      "id": "cd639236-97a1-4016-a018-6ff8f07877c7"
    },
    {
      "cell_type": "markdown",
      "source": [
        "Es importante percibir que no tenemos \"substracción\" ni \"división\".\n",
        "\n",
        "## Listas\n",
        "Muchas veces estaremos trabajando con listas de valores"
      ],
      "metadata": {
        "id": "a4ef9e1b-692a-4e35-94e9-0422edd9e0a5"
      },
      "id": "a4ef9e1b-692a-4e35-94e9-0422edd9e0a5"
    },
    {
      "cell_type": "code",
      "source": [
        "# Utilizamos [] para definir listas\n",
        "gasto_por_mes = [100, 110, 200, 140]\n",
        "\n",
        "gasto_por_mes"
      ],
      "metadata": {
        "trusted": true,
        "id": "e22a6d20-3067-4cd6-8bfd-237f4a29a29b"
      },
      "execution_count": null,
      "outputs": [],
      "id": "e22a6d20-3067-4cd6-8bfd-237f4a29a29b"
    },
    {
      "cell_type": "code",
      "source": [
        "# Con la función len() podemos ver el tamaño de la lista\n",
        "len(gasto_por_mes)"
      ],
      "metadata": {
        "trusted": true,
        "id": "20b4e4ba-a96c-4d4b-b12a-efc828b5882d"
      },
      "execution_count": null,
      "outputs": [],
      "id": "20b4e4ba-a96c-4d4b-b12a-efc828b5882d"
    },
    {
      "cell_type": "code",
      "source": [
        "# Podemos inserir elementos en listas con .append()\n",
        "gasto_por_mes.append(90)\n",
        "\n",
        "gasto_por_mes"
      ],
      "metadata": {
        "trusted": true,
        "id": "5b688307-543e-40a9-bdb2-86916ac3dfde"
      },
      "execution_count": null,
      "outputs": [],
      "id": "5b688307-543e-40a9-bdb2-86916ac3dfde"
    },
    {
      "cell_type": "code",
      "source": [
        "# Tambien podemos concatenar dos listas\n",
        "gasto_por_mes = gasto_por_mes + [100, 80, 250]\n",
        "\n",
        "gasto_por_mes"
      ],
      "metadata": {
        "trusted": true,
        "id": "4f5cb138-a866-4bc9-870f-8f6c483f9b0f"
      },
      "execution_count": null,
      "outputs": [],
      "id": "4f5cb138-a866-4bc9-870f-8f6c483f9b0f"
    },
    {
      "cell_type": "markdown",
      "source": [
        "Una cosa muy importante en listas es accesar sus elementos, lo que puede ser hecho uno a uno o por pedazos de la lista"
      ],
      "metadata": {
        "id": "7cb9c514-cc30-4393-97d6-20bd454cf1e8"
      },
      "id": "7cb9c514-cc30-4393-97d6-20bd454cf1e8"
    },
    {
      "cell_type": "code",
      "source": [
        "# La indexacion es hecha con [] y comieza en el indice 0\n",
        "gasto_tercer_mes =gasto_por_mes[2]\n",
        "\n",
        "gasto_tercer_mes"
      ],
      "metadata": {
        "trusted": true,
        "id": "3b147d9e-1a57-46bd-91f7-19a3d21467fe"
      },
      "execution_count": null,
      "outputs": [],
      "id": "3b147d9e-1a57-46bd-91f7-19a3d21467fe"
    },
    {
      "cell_type": "code",
      "source": [
        "# Tambien podemos retornar un intervalo de la lista usando :\n",
        "# Solo es importante percibir que el intervalo es abierto en la derecha\n",
        "gasto_tercer_al_sexto = gasto_por_mes[2:6]\n",
        "\n",
        "gasto_tercer_al_sexto"
      ],
      "metadata": {
        "trusted": true,
        "id": "49b0efbc-b437-4765-a649-e260e757f064"
      },
      "execution_count": null,
      "outputs": [],
      "id": "49b0efbc-b437-4765-a649-e260e757f064"
    },
    {
      "cell_type": "code",
      "source": [
        "# Indices negativos significan indexar de atrás para adelante\n",
        "ultimo_gasto = lgasto_por_mes[-1]\n",
        "\n",
        "ultimo_gasto"
      ],
      "metadata": {
        "trusted": true,
        "id": "da98aa3d-4f13-48be-bf2d-98c1b968ba42"
      },
      "execution_count": null,
      "outputs": [],
      "id": "da98aa3d-4f13-48be-bf2d-98c1b968ba42"
    },
    {
      "cell_type": "markdown",
      "source": [
        "Listas pueden contener cualquier tipo de datos, incluso combinando tipos diferentes en una misma lista"
      ],
      "metadata": {
        "id": "8d08ccef-597a-4fbf-af98-9181b62b3140"
      },
      "id": "8d08ccef-597a-4fbf-af98-9181b62b3140"
    },
    {
      "cell_type": "code",
      "source": [
        "# Una lista de strings\n",
        "series = ['Friends', 'Vikings', 'YOU']\n",
        "print(series)\n",
        "\n",
        "# Una lista combinada con varios tipos de datos\n",
        "mi_lista = [3.1415, 'Veinte', 42, True]\n",
        "print(mi_lista)"
      ],
      "metadata": {
        "trusted": true,
        "id": "ae7ddab3-181b-4c37-868f-0aa592ff115e"
      },
      "execution_count": null,
      "outputs": [],
      "id": "ae7ddab3-181b-4c37-868f-0aa592ff115e"
    },
    {
      "cell_type": "markdown",
      "source": [
        "Podemos incluso hacer una lista de listas"
      ],
      "metadata": {
        "id": "320c151a-5cac-49f2-b6a1-07e09d4cccda"
      },
      "id": "320c151a-5cac-49f2-b6a1-07e09d4cccda"
    },
    {
      "cell_type": "code",
      "source": [
        "# Una lista de listas\n",
        "gastos = [[10, 22, 13], [11, 50], [32, 21, 48]]\n",
        "print(gastos)"
      ],
      "metadata": {
        "trusted": true,
        "id": "8f1bf927-57bf-4c26-b3be-c69087e1d0a2"
      },
      "execution_count": null,
      "outputs": [],
      "id": "8f1bf927-57bf-4c26-b3be-c69087e1d0a2"
    },
    {
      "cell_type": "code",
      "source": [
        "# Para accesar usamos [] dos vezes\n",
        "gastos[1][0]"
      ],
      "metadata": {
        "trusted": true,
        "id": "c4036458-6c44-4cee-8fb3-4e14e65f3719"
      },
      "execution_count": null,
      "outputs": [],
      "id": "c4036458-6c44-4cee-8fb3-4e14e65f3719"
    },
    {
      "cell_type": "markdown",
      "source": [
        "## Tuplas\n",
        "Son muy semejantes a las listas, por eso son inmutables. Son definidas con ()"
      ],
      "metadata": {
        "id": "65a6753c-774d-4232-be4d-849d02b4db60"
      },
      "id": "65a6753c-774d-4232-be4d-849d02b4db60"
    },
    {
      "cell_type": "code",
      "source": [
        "# Creando una tupla\n",
        "mi_tupla = (70, 84, 10, 12)\n",
        "\n",
        "print(mi_tupla)\n",
        "print(mi_tupla[2])\n",
        "print(mi_tupla[1:3])"
      ],
      "metadata": {
        "trusted": true,
        "id": "d57df979-39b0-4be2-ab78-9d88c8fe836b"
      },
      "execution_count": null,
      "outputs": [],
      "id": "d57df979-39b0-4be2-ab78-9d88c8fe836b"
    },
    {
      "cell_type": "code",
      "source": [
        "# No podemos alterar valores\n",
        "mi_tupla[0] = 50"
      ],
      "metadata": {
        "trusted": true,
        "id": "c4c44489-89b0-4fc0-ab36-ec9fee700403"
      },
      "execution_count": null,
      "outputs": [],
      "id": "c4c44489-89b0-4fc0-ab36-ec9fee700403"
    },
    {
      "cell_type": "markdown",
      "source": [
        "## Estructuras condicionales\n",
        "Las estructuras condicionales de Python tienen estructura similar a otros lenguajes de programación. El detalle mas importante es que la definición de los bloques de código es através de la identación, encuanto otros lenguajes usan simbolos como {}."
      ],
      "metadata": {
        "id": "b478ed88-5589-429f-b1fe-68ba4e999041"
      },
      "id": "b478ed88-5589-429f-b1fe-68ba4e999041"
    },
    {
      "cell_type": "code",
      "source": [
        "# Definiendo una variable que vamos a usar\n",
        "mi_numero = 42\n",
        "\n",
        "if mi_numero < 50:\n",
        "    print('Menor que 50')\n",
        "else:\n",
        "    print('Mayor que 50')"
      ],
      "metadata": {
        "trusted": true,
        "id": "98e512b5-af23-41ef-b118-be051c533f9b",
        "outputId": "655c03df-1a09-4206-ae6e-ff5b15d5ea0b"
      },
      "execution_count": null,
      "outputs": [
        {
          "name": "stdout",
          "text": "Menor que 50\n",
          "output_type": "stream"
        }
      ],
      "id": "98e512b5-af23-41ef-b118-be051c533f9b"
    },
    {
      "cell_type": "code",
      "source": [
        "mi_numero = 50\n",
        "\n",
        "# Asi como en otros lenguajes, tenemos elif\n",
        "if mi_numero < 50:\n",
        "    print('Menor que 50')\n",
        "elif mi_numero > 50:\n",
        "    print('Mayor que 50')\n",
        "else:\n",
        "    print('Exactamente 50')"
      ],
      "metadata": {
        "trusted": true,
        "id": "fe913679-dff6-4af6-91e7-2a1a96437c10",
        "outputId": "48f763aa-12cf-4bd6-b5ef-bb996988b16d"
      },
      "execution_count": null,
      "outputs": [
        {
          "name": "stdout",
          "text": "Exactamente 50\n",
          "output_type": "stream"
        }
      ],
      "id": "fe913679-dff6-4af6-91e7-2a1a96437c10"
    },
    {
      "cell_type": "markdown",
      "source": [
        "## Estructuras de repetición\n",
        "Asi como otro lenguaje, Python posee las estructuras de repetición for y while. Es importante percibir que el for de Python es un for each, concepto presente en otros lenguajes de programación. No olvidarse de la identación."
      ],
      "metadata": {
        "id": "47968882-5287-4641-a6b2-7c164db55a50"
      },
      "id": "47968882-5287-4641-a6b2-7c164db55a50"
    },
    {
      "cell_type": "code",
      "source": [
        "# Definiendo una lista\n",
        "mi_lista = [3, 5, 7, 4, 9]\n",
        "\n",
        "# Vamos hacer un lazo que imprima cada elemento de nuestra lista\n",
        "for num in mi_lista:\n",
        "    print(num)"
      ],
      "metadata": {
        "trusted": true,
        "id": "cf381c70-c8c5-476e-8ae4-191faf09bc4d",
        "outputId": "3e924858-cddb-4496-9af3-a2c085c9e848"
      },
      "execution_count": null,
      "outputs": [
        {
          "name": "stdout",
          "text": "3\n5\n7\n4\n9\n",
          "output_type": "stream"
        }
      ],
      "id": "cf381c70-c8c5-476e-8ae4-191faf09bc4d"
    },
    {
      "cell_type": "code",
      "source": [
        "# Vamos hacer algo mas interesante\n",
        "total = 0\n",
        "for lucro in lucro_por_mes:\n",
        "    total += lucro\n",
        "    \n",
        "num_meses = len(lucro_por_mes)\n",
        "media = total/num_meses\n",
        "media "
      ],
      "metadata": {
        "trusted": true,
        "id": "84c37b9e-422f-47b1-a479-1d56191597d4"
      },
      "execution_count": null,
      "outputs": [],
      "id": "84c37b9e-422f-47b1-a479-1d56191597d4"
    },
    {
      "cell_type": "markdown",
      "source": [
        "En algunas situaciones queremos un lazo que itere por una varible con valores 0, 1, 2, 3, ... Podemos hacer esto utilizando el método range()"
      ],
      "metadata": {
        "id": "6f48d18b-fd89-47da-9d0f-8b30fcb8c382"
      },
      "id": "6f48d18b-fd89-47da-9d0f-8b30fcb8c382"
    },
    {
      "cell_type": "code",
      "source": [
        "# Perciba que aqui el intervalo de la derecha tambien es abierto\n",
        "for i in range(8):\n",
        "    print(i, 2*i)"
      ],
      "metadata": {
        "trusted": true,
        "id": "9542f339-e696-47ef-957a-30bb8d50f60d"
      },
      "execution_count": null,
      "outputs": [],
      "id": "9542f339-e696-47ef-957a-30bb8d50f60d"
    },
    {
      "cell_type": "code",
      "source": [
        "# Puede comenzar de un valor diferente de 0\n",
        "for i in range(2, 9):\n",
        "    print(i, 2*i)"
      ],
      "metadata": {
        "trusted": true,
        "id": "8d83f01b-6975-447c-954e-f1ced8fe9808"
      },
      "execution_count": null,
      "outputs": [],
      "id": "8d83f01b-6975-447c-954e-f1ced8fe9808"
    },
    {
      "cell_type": "code",
      "source": [
        "# Puede inclusive dar pasos diferentes de 1\n",
        "for i in range(2, 9, 2):\n",
        "    print(i, 2*i)"
      ],
      "metadata": {
        "trusted": true,
        "id": "7580fd29-f2cf-4dbe-b38c-2c52bfee1875"
      },
      "execution_count": null,
      "outputs": [],
      "id": "7580fd29-f2cf-4dbe-b38c-2c52bfee1875"
    },
    {
      "cell_type": "markdown",
      "source": [
        "## Diccionarios\n",
        "Diccionario es una estructura de datos utilizada para almacenar informaciones del tipo llave-valor. Ello es definido con {} y sus elementos son accesados con []"
      ],
      "metadata": {
        "id": "83633bab-05ac-4089-a9c5-6abc924a215f"
      },
      "id": "83633bab-05ac-4089-a9c5-6abc924a215f"
    },
    {
      "cell_type": "code",
      "source": [
        "# Definiendo un diccionario vacio\n",
        "edades = {}\n",
        "\n",
        "# Acrescentando dados\n",
        "edades['Carla'] = 31\n",
        "edades['Diego'] = 36\n",
        "edades['Juan'] = 25\n",
        "\n",
        "# Accesando un elemento através de la llave e imprimiendo el valor almacenado\n",
        "print(edades['Carla'])"
      ],
      "metadata": {
        "trusted": true,
        "id": "a3ca98f9-fe3f-46fa-ae30-0e948d835d09"
      },
      "execution_count": null,
      "outputs": [],
      "id": "a3ca98f9-fe3f-46fa-ae30-0e948d835d09"
    },
    {
      "cell_type": "code",
      "source": [
        "# Tambien podemos crear un diccionario ya adicionando valores\n",
        "edades = {\n",
        "    'Maria': 23,\n",
        "    'Jose': 34,\n",
        "    'Juan': 28,\n",
        "}\n",
        "\n",
        "edades['Juan']"
      ],
      "metadata": {
        "trusted": true,
        "id": "4daf00b6-e7d1-4d31-9721-18a347587d55"
      },
      "execution_count": null,
      "outputs": [],
      "id": "4daf00b6-e7d1-4d31-9721-18a347587d55"
    },
    {
      "cell_type": "markdown",
      "source": [
        "Algunas funciones utiles para manipular diccionarios"
      ],
      "metadata": {
        "id": "42b4a2fc-5d5c-40be-b7c0-840c6fc5b5e4"
      },
      "id": "42b4a2fc-5d5c-40be-b7c0-840c6fc5b5e4"
    },
    {
      "cell_type": "code",
      "source": [
        "# Asi como listas len() retorna el tamaño\n",
        "print(len(edades))"
      ],
      "metadata": {
        "trusted": true,
        "id": "6f5c19c5-921b-45ad-a226-5d9aac8adcfd"
      },
      "execution_count": null,
      "outputs": [],
      "id": "6f5c19c5-921b-45ad-a226-5d9aac8adcfd"
    },
    {
      "cell_type": "code",
      "source": [
        "# Podemos comprobar si un valor con una cierta llave ya existe en el diccionario\n",
        "print('Maria' in edades)\n",
        "print('Joana' in edades)"
      ],
      "metadata": {
        "trusted": true,
        "id": "7b02c40a-f383-407c-83d7-f11e4a6d0d35"
      },
      "execution_count": null,
      "outputs": [],
      "id": "7b02c40a-f383-407c-83d7-f11e4a6d0d35"
    },
    {
      "cell_type": "markdown",
      "source": [
        "## Funciones\n",
        "Asi como en otros lenguajes podemos definir funciones en Python, esto es hecho através de la palavra-llave def"
      ],
      "metadata": {
        "id": "668edac6-d032-4d39-a2d7-a29e0fbef0f3"
      },
      "id": "668edac6-d032-4d39-a2d7-a29e0fbef0f3"
    },
    {
      "cell_type": "code",
      "source": [
        "# Definiendo una funcion simple\n",
        "def imprime_doble(num):\n",
        "    print(num * 2)"
      ],
      "metadata": {
        "trusted": true,
        "id": "6a11f499-ffe5-421c-a1aa-2a47c697dc4b"
      },
      "execution_count": null,
      "outputs": [],
      "id": "6a11f499-ffe5-421c-a1aa-2a47c697dc4b"
    },
    {
      "cell_type": "code",
      "source": [
        "imprime_doble(4)\n",
        "imprime_doble(5)"
      ],
      "metadata": {
        "trusted": true,
        "id": "f84ed55d-4fab-4b4f-b66a-986d9b910d70"
      },
      "execution_count": null,
      "outputs": [],
      "id": "f84ed55d-4fab-4b4f-b66a-986d9b910d70"
    },
    {
      "cell_type": "code",
      "source": [
        "# Vamos a definir una función un poco mas compleja\n",
        "def suma_lista(lista):\n",
        "    total = 0\n",
        "    for num in lista:\n",
        "        total += num\n",
        "    return total"
      ],
      "metadata": {
        "trusted": true,
        "id": "00ba28bf-ed74-402f-9340-d630e58d8bc5"
      },
      "execution_count": null,
      "outputs": [],
      "id": "00ba28bf-ed74-402f-9340-d630e58d8bc5"
    },
    {
      "cell_type": "code",
      "source": [
        "suma_lista([2, 4, 5])"
      ],
      "metadata": {
        "trusted": true,
        "id": "a86b903d-178a-498a-839c-15b1dc75a6ef"
      },
      "execution_count": null,
      "outputs": [],
      "id": "a86b903d-178a-498a-839c-15b1dc75a6ef"
    },
    {
      "cell_type": "code",
      "source": [
        "# Funciones pueden retornar mas de un valor\n",
        "def suma_y_multiplica(a, b):\n",
        "    suma = a + b\n",
        "    multi = a * b\n",
        "    \n",
        "    return suma, multi"
      ],
      "metadata": {
        "trusted": true,
        "id": "03917510-1847-40bf-8d73-18029fc7183b"
      },
      "execution_count": null,
      "outputs": [],
      "id": "03917510-1847-40bf-8d73-18029fc7183b"
    },
    {
      "cell_type": "code",
      "source": [
        "s, m = suma_y_multiplica(3, 2)\n",
        "print(s, m)"
      ],
      "metadata": {
        "trusted": true,
        "id": "d2789bc1-d33f-4823-9353-b6aabe87222f"
      },
      "execution_count": null,
      "outputs": [],
      "id": "d2789bc1-d33f-4823-9353-b6aabe87222f"
    },
    {
      "cell_type": "markdown",
      "source": [
        "## Bibliotecas\n",
        "Bibliotecas son conjuntos de clases y funciones que ya estan prontas. Existen bibliotecas nativas de Python y bibliotecas de terceros, con las mas diversas utilidades"
      ],
      "metadata": {
        "id": "33f54a27-000d-4882-978a-fb5c85ffdeed"
      },
      "id": "33f54a27-000d-4882-978a-fb5c85ffdeed"
    },
    {
      "cell_type": "code",
      "source": [
        "# Funciones relacionadas a números aleatórios\n",
        "import random\n",
        "\n",
        "# Numero aleatorio nen el intervalo [10, 20]\n",
        "print(random.randint(10, 20))"
      ],
      "metadata": {
        "trusted": true,
        "id": "674c053c-9fc3-4a6d-8829-12be3ea0c21b"
      },
      "execution_count": null,
      "outputs": [],
      "id": "674c053c-9fc3-4a6d-8829-12be3ea0c21b"
    },
    {
      "cell_type": "code",
      "source": [
        "# Podemos importar apenas las funciones que queremos\n",
        "from random import randint\n",
        "\n",
        "print(randint(10, 20))"
      ],
      "metadata": {
        "trusted": true,
        "id": "167c1917-889b-4361-9ba0-41748c875d7b"
      },
      "execution_count": null,
      "outputs": [],
      "id": "167c1917-889b-4361-9ba0-41748c875d7b"
    },
    {
      "cell_type": "markdown",
      "source": [
        "El contenido de Python aqui es básico, recomiendo que usted busque otras fuentes de estudo de Python para tener mayor facilidad en tareas de ciencia de datos. Lo que fué cubierto aqui es bien introductório, entonces en el recorrer de las aulas iremos introducir algunos conceptos nuevos conforme surja la necesidad."
      ],
      "metadata": {
        "id": "9d197d73-2c5f-48ea-b25a-25519d63a824"
      },
      "id": "9d197d73-2c5f-48ea-b25a-25519d63a824"
    }
  ]
}